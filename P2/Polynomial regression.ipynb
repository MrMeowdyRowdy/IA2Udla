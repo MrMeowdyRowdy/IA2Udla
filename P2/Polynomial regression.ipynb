{
 "cells": [
  {
   "cell_type": "markdown",
   "id": "0bf32f7a-455f-453e-920f-c7f264614c97",
   "metadata": {},
   "source": [
    "# Polinomial Regression\n",
    "\n",
    "### Authors:\n",
    "- Adrián Bedón\n",
    "- Pablo Chasipanta\n",
    "- José Miguel Merlo\n",
    "- Dennis Ocaña\n",
    "- Xavier Ramos"
   ]
  },
  {
   "cell_type": "markdown",
   "id": "4436f188-54e9-44d8-8eec-f2ed86087d12",
   "metadata": {},
   "source": [
    "## 1. Polinomial Regression"
   ]
  },
  {
   "cell_type": "code",
   "execution_count": 2,
   "id": "39711b96-0cda-48e0-82e0-963c912820b8",
   "metadata": {},
   "outputs": [],
   "source": [
    "import pandas as pd\n",
    "import numpy as np\n",
    "from sklearn.linear_model import LinearRegression\n",
    "from sklearn.preprocessing import PolynomialFeatures\n",
    "from sklearn.metrics import mean_squared_error, r2_score\n",
    "import matplotlib.pyplot as plt"
   ]
  },
  {
   "cell_type": "code",
   "execution_count": 3,
   "id": "8cfb07aa-8a80-4585-a98f-f5e1fd4d8777",
   "metadata": {},
   "outputs": [
    {
     "name": "stdout",
     "output_type": "stream",
     "text": [
      "   i    xi     yi\n",
      "0  1   6.6  -45.4\n",
      "1  2  10.1 -176.6\n",
      "2  3   8.9 -127.1\n",
      "3  4   6.0  -31.1\n",
      "4  5  13.3 -366.6\n"
     ]
    }
   ],
   "source": [
    "# Load the dataset from the URL\n",
    "url = \"https://raw.githubusercontent.com/Machine1314/natural_computing/main/data_regression.csv\"\n",
    "df = pd.read_csv(url)\n",
    "\n",
    "print(df.head())\n",
    "\n",
    "# Extract the independent variable (X) and dependent variable (y)\n",
    "X = df[['xi']].values \n",
    "y = df['yi'].values"
   ]
  },
  {
   "cell_type": "markdown",
   "id": "2eb15820-188e-481f-9a4c-6ccec5520c86",
   "metadata": {},
   "source": [
    "# Create polynomial features (degree=2 for quadratic)\n",
    "poly = PolynomialFeatures(degree=2)\n",
    "X_poly = poly.fit_transform(X)\n",
    "\n",
    "# Create and fit the linear regression model to the polynomial features\n",
    "model = LinearRegression()\n",
    "model.fit(X_poly, y)\n",
    "\n",
    "# Make predictions\n",
    "y_pred = model.predict(X_poly)\n",
    "\n",
    "# Evaluate the model using metrics like MSE and R-squared\n",
    "mse = mean_squared_error(y, y_pred)\n",
    "r2 = r2_score(y, y_pred)\n",
    "\n",
    "print(f\"Mean Squared Error: {mse}\")\n",
    "print(f\"R-squared: {r2}\")\n",
    "\n",
    "# Sort the data points before plotting the predicted curve\n",
    "sort_idx = np.argsort(X[:, 0])  # Get the indices to sort X\n",
    "X_sorted = X[sort_idx]\n",
    "y_pred_sorted = y_pred[sort_idx]\n",
    "\n",
    "# Create a zoomed-out view\n",
    "fig, (ax1, ax2) = plt.subplots(1, 2, figsize=(12, 5))  # 1 row, 2 columns\n",
    "\n",
    "# Original plot (ax1) - same as before\n",
    "ax1.scatter(X, y, color='blue', label='Actual Data')\n",
    "ax1.plot(X_sorted, y_pred_sorted, color='red', label='Predicted Curve')\n",
    "ax1.set_xlabel('x')\n",
    "ax1.set_ylabel('y')\n",
    "ax1.set_title('Quadratic Regression: Original View')\n",
    "ax1.legend()\n",
    "\n",
    "# Zoomed-out plot (ax2)\n",
    "x_range = np.linspace(X.min() - 5, X.max() + 5, 100)  # Extended x-range\n",
    "X_range_poly = poly.transform(x_range.reshape(-1, 1))  # Transform for prediction\n",
    "y_range_pred = model.predict(X_range_poly)\n",
    "\n",
    "ax2.scatter(X, y, color='blue', label='Actual Data')\n",
    "ax2.plot(x_range, y_range_pred, color='red', label='Predicted Curve')\n",
    "ax2.set_xlabel('x')\n",
    "ax2.set_ylabel('y')\n",
    "ax2.set_title('Quadratic Regression: Zoomed-Out View')\n",
    "ax2.legend()\n",
    "\n",
    "plt.tight_layout()  # Adjust layout for better spacing\n",
    "plt.show()"
   ]
  },
  {
   "cell_type": "markdown",
   "id": "c8e704ef-65d5-4d49-9f36-68a40d9b730b",
   "metadata": {},
   "source": [
    "## 2. "
   ]
  },
  {
   "cell_type": "markdown",
   "id": "c82559a2-782f-43a4-a9ed-83be93a377fe",
   "metadata": {},
   "source": [
    "## 3. MLP"
   ]
  },
  {
   "cell_type": "code",
   "execution_count": null,
   "id": "99e931d3-0fea-4b97-8c6b-23af97e6ddc1",
   "metadata": {},
   "outputs": [],
   "source": [
    "import pandas as pd\n",
    "import numpy as np\n",
    "from sklearn.model_selection import train_test_split\n",
    "from sklearn.preprocessing import StandardScaler\n",
    "from tensorflow import keras\n",
    "from tensorflow.keras import layers\n",
    "import matplotlib.pyplot as plt"
   ]
  }
 ],
 "metadata": {
  "kernelspec": {
   "display_name": "Python 3 (ipykernel)",
   "language": "python",
   "name": "python3"
  },
  "language_info": {
   "codemirror_mode": {
    "name": "ipython",
    "version": 3
   },
   "file_extension": ".py",
   "mimetype": "text/x-python",
   "name": "python",
   "nbconvert_exporter": "python",
   "pygments_lexer": "ipython3",
   "version": "3.12.7"
  }
 },
 "nbformat": 4,
 "nbformat_minor": 5
}
